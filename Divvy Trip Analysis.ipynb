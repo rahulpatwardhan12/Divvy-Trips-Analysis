{
 "cells": [
  {
   "cell_type": "markdown",
   "metadata": {},
   "source": [
    "# Divvy Trip Analysis"
   ]
  },
  {
   "cell_type": "markdown",
   "metadata": {},
   "source": [
    "Divvy is a bike rental service which has its own custom made bikes. A user can pickup a bike from one location and drop it to another location and only pay a small price for it. Learn more about them [here](https://www.divvybikes.com/how-it-works)."
   ]
  },
  {
   "cell_type": "markdown",
   "metadata": {},
   "source": [
    "We are going to analyse the dataset given by divvy about its trips to see the differences between the 2 types of customers: **Casuals** and **Members**. We then try to recommend some steps in order to increase revenue and the number of members. "
   ]
  },
  {
   "cell_type": "markdown",
   "metadata": {},
   "source": [
    "Source: https://www.divvybikes.com/system-data <br>\n",
    "Data Source: https://divvy-tripdata.s3.amazonaws.com/index.html <br>\n",
    "License: https://www.divvybikes.com/data-license-agreement"
   ]
  },
  {
   "cell_type": "markdown",
   "metadata": {},
   "source": [
    "### Index\n",
    "\n",
    "1. [Import Libraries](#s1)\n",
    "2. [Exploratory Analysis](#s2)<br>\n",
    "    2.1 [Observations](#s21)<br>\n",
    "    2.2 [Cleaning Steps Done](#s22)\n",
    "3. [Data Transformation](#s3)\n",
    "4. [Extracting Insights and Patterns](#s4)<br>\n",
    "    4.1 [Observations](#s41)\n",
    "5. [Conclusions and Recommendations](#s5)"
   ]
  },
  {
   "cell_type": "markdown",
   "metadata": {},
   "source": [
    "---"
   ]
  },
  {
   "cell_type": "markdown",
   "metadata": {},
   "source": [
    "<a id='s1'></a>\n",
    "\n",
    "## Import Libraries"
   ]
  },
  {
   "cell_type": "markdown",
   "metadata": {},
   "source": [
    "We first import all the required libraries"
   ]
  },
  {
   "cell_type": "code",
   "execution_count": null,
   "metadata": {},
   "outputs": [],
   "source": [
    "#For calculating distance using latitude and longitude\n",
    "!pip install haversine"
   ]
  },
  {
   "cell_type": "code",
   "execution_count": 62,
   "metadata": {},
   "outputs": [],
   "source": [
    "import pandas as pd\n",
    "import numpy as np\n",
    "import os\n",
    "from datetime import datetime\n",
    "import seaborn as sns\n",
    "import matplotlib.pyplot as plt\n",
    "import matplotlib.dates as mdates\n",
    "import haversine as hs"
   ]
  },
  {
   "cell_type": "code",
   "execution_count": 2,
   "metadata": {},
   "outputs": [],
   "source": [
    "files = os.listdir()\n",
    "\n",
    "files.remove(\".DS_Store\")\n",
    "files.remove(\".ipynb_checkpoints\")\n",
    "files.remove(\"Cyclist Analysis.ipynb\")"
   ]
  },
  {
   "cell_type": "code",
   "execution_count": 3,
   "metadata": {},
   "outputs": [],
   "source": [
    "df = pd.DataFrame()\n",
    "for file in files:\n",
    "    tempdf = pd.read_csv(file)\n",
    "    df = df.append(tempdf,ignore_index=True)"
   ]
  },
  {
   "cell_type": "markdown",
   "metadata": {},
   "source": [
    "---"
   ]
  },
  {
   "cell_type": "markdown",
   "metadata": {},
   "source": [
    "<a id='s2'></a>\n",
    "\n",
    "## Exploratory Analysis"
   ]
  },
  {
   "cell_type": "markdown",
   "metadata": {},
   "source": [
    "We first check whether the dataset's columns are of the correct type and whether they have null values or not."
   ]
  },
  {
   "cell_type": "code",
   "execution_count": 4,
   "metadata": {},
   "outputs": [
    {
     "data": {
      "text/html": [
       "<div>\n",
       "<style scoped>\n",
       "    .dataframe tbody tr th:only-of-type {\n",
       "        vertical-align: middle;\n",
       "    }\n",
       "\n",
       "    .dataframe tbody tr th {\n",
       "        vertical-align: top;\n",
       "    }\n",
       "\n",
       "    .dataframe thead th {\n",
       "        text-align: right;\n",
       "    }\n",
       "</style>\n",
       "<table border=\"1\" class=\"dataframe\">\n",
       "  <thead>\n",
       "    <tr style=\"text-align: right;\">\n",
       "      <th></th>\n",
       "      <th>ride_id</th>\n",
       "      <th>rideable_type</th>\n",
       "      <th>started_at</th>\n",
       "      <th>ended_at</th>\n",
       "      <th>start_station_name</th>\n",
       "      <th>start_station_id</th>\n",
       "      <th>end_station_name</th>\n",
       "      <th>end_station_id</th>\n",
       "      <th>start_lat</th>\n",
       "      <th>start_lng</th>\n",
       "      <th>end_lat</th>\n",
       "      <th>end_lng</th>\n",
       "      <th>member_casual</th>\n",
       "    </tr>\n",
       "  </thead>\n",
       "  <tbody>\n",
       "    <tr>\n",
       "      <th>0</th>\n",
       "      <td>BD0A6FF6FFF9B921</td>\n",
       "      <td>electric_bike</td>\n",
       "      <td>2020-11-01 13:36:00</td>\n",
       "      <td>2020-11-01 13:45:40</td>\n",
       "      <td>Dearborn St &amp; Erie St</td>\n",
       "      <td>110</td>\n",
       "      <td>St. Clair St &amp; Erie St</td>\n",
       "      <td>211</td>\n",
       "      <td>41.894177</td>\n",
       "      <td>-87.629127</td>\n",
       "      <td>41.894434</td>\n",
       "      <td>-87.623379</td>\n",
       "      <td>casual</td>\n",
       "    </tr>\n",
       "    <tr>\n",
       "      <th>1</th>\n",
       "      <td>96A7A7A4BDE4F82D</td>\n",
       "      <td>electric_bike</td>\n",
       "      <td>2020-11-01 10:03:26</td>\n",
       "      <td>2020-11-01 10:14:45</td>\n",
       "      <td>Franklin St &amp; Illinois St</td>\n",
       "      <td>672</td>\n",
       "      <td>Noble St &amp; Milwaukee Ave</td>\n",
       "      <td>29</td>\n",
       "      <td>41.890959</td>\n",
       "      <td>-87.635343</td>\n",
       "      <td>41.900675</td>\n",
       "      <td>-87.662480</td>\n",
       "      <td>casual</td>\n",
       "    </tr>\n",
       "    <tr>\n",
       "      <th>2</th>\n",
       "      <td>C61526D06582BDC5</td>\n",
       "      <td>electric_bike</td>\n",
       "      <td>2020-11-01 00:34:05</td>\n",
       "      <td>2020-11-01 01:03:06</td>\n",
       "      <td>Lake Shore Dr &amp; Monroe St</td>\n",
       "      <td>76</td>\n",
       "      <td>Federal St &amp; Polk St</td>\n",
       "      <td>41</td>\n",
       "      <td>41.880983</td>\n",
       "      <td>-87.616754</td>\n",
       "      <td>41.872054</td>\n",
       "      <td>-87.629550</td>\n",
       "      <td>casual</td>\n",
       "    </tr>\n",
       "    <tr>\n",
       "      <th>3</th>\n",
       "      <td>E533E89C32080B9E</td>\n",
       "      <td>electric_bike</td>\n",
       "      <td>2020-11-01 00:45:16</td>\n",
       "      <td>2020-11-01 00:54:31</td>\n",
       "      <td>Leavitt St &amp; Chicago Ave</td>\n",
       "      <td>659</td>\n",
       "      <td>Stave St &amp; Armitage Ave</td>\n",
       "      <td>185</td>\n",
       "      <td>41.895499</td>\n",
       "      <td>-87.682013</td>\n",
       "      <td>41.917744</td>\n",
       "      <td>-87.691392</td>\n",
       "      <td>casual</td>\n",
       "    </tr>\n",
       "    <tr>\n",
       "      <th>4</th>\n",
       "      <td>1C9F4EF18C168C60</td>\n",
       "      <td>electric_bike</td>\n",
       "      <td>2020-11-01 15:43:25</td>\n",
       "      <td>2020-11-01 16:16:52</td>\n",
       "      <td>Buckingham Fountain</td>\n",
       "      <td>2</td>\n",
       "      <td>Buckingham Fountain</td>\n",
       "      <td>2</td>\n",
       "      <td>41.876497</td>\n",
       "      <td>-87.620358</td>\n",
       "      <td>41.876448</td>\n",
       "      <td>-87.620338</td>\n",
       "      <td>casual</td>\n",
       "    </tr>\n",
       "  </tbody>\n",
       "</table>\n",
       "</div>"
      ],
      "text/plain": [
       "            ride_id  rideable_type           started_at             ended_at  \\\n",
       "0  BD0A6FF6FFF9B921  electric_bike  2020-11-01 13:36:00  2020-11-01 13:45:40   \n",
       "1  96A7A7A4BDE4F82D  electric_bike  2020-11-01 10:03:26  2020-11-01 10:14:45   \n",
       "2  C61526D06582BDC5  electric_bike  2020-11-01 00:34:05  2020-11-01 01:03:06   \n",
       "3  E533E89C32080B9E  electric_bike  2020-11-01 00:45:16  2020-11-01 00:54:31   \n",
       "4  1C9F4EF18C168C60  electric_bike  2020-11-01 15:43:25  2020-11-01 16:16:52   \n",
       "\n",
       "          start_station_name start_station_id          end_station_name  \\\n",
       "0      Dearborn St & Erie St              110    St. Clair St & Erie St   \n",
       "1  Franklin St & Illinois St              672  Noble St & Milwaukee Ave   \n",
       "2  Lake Shore Dr & Monroe St               76      Federal St & Polk St   \n",
       "3   Leavitt St & Chicago Ave              659   Stave St & Armitage Ave   \n",
       "4        Buckingham Fountain                2       Buckingham Fountain   \n",
       "\n",
       "  end_station_id  start_lat  start_lng    end_lat    end_lng member_casual  \n",
       "0            211  41.894177 -87.629127  41.894434 -87.623379        casual  \n",
       "1             29  41.890959 -87.635343  41.900675 -87.662480        casual  \n",
       "2             41  41.880983 -87.616754  41.872054 -87.629550        casual  \n",
       "3            185  41.895499 -87.682013  41.917744 -87.691392        casual  \n",
       "4              2  41.876497 -87.620358  41.876448 -87.620338        casual  "
      ]
     },
     "execution_count": 4,
     "metadata": {},
     "output_type": "execute_result"
    }
   ],
   "source": [
    "#Taking a look at first 5 rows of the dataset\n",
    "df.head()"
   ]
  },
  {
   "cell_type": "code",
   "execution_count": 5,
   "metadata": {},
   "outputs": [
    {
     "name": "stdout",
     "output_type": "stream",
     "text": [
      "<class 'pandas.core.frame.DataFrame'>\n",
      "RangeIndex: 4073561 entries, 0 to 4073560\n",
      "Data columns (total 13 columns):\n",
      " #   Column              Dtype  \n",
      "---  ------              -----  \n",
      " 0   ride_id             object \n",
      " 1   rideable_type       object \n",
      " 2   started_at          object \n",
      " 3   ended_at            object \n",
      " 4   start_station_name  object \n",
      " 5   start_station_id    object \n",
      " 6   end_station_name    object \n",
      " 7   end_station_id      object \n",
      " 8   start_lat           float64\n",
      " 9   start_lng           float64\n",
      " 10  end_lat             float64\n",
      " 11  end_lng             float64\n",
      " 12  member_casual       object \n",
      "dtypes: float64(4), object(9)\n",
      "memory usage: 404.0+ MB\n"
     ]
    }
   ],
   "source": [
    "#Overview of dataset\n",
    "df.info()"
   ]
  },
  {
   "cell_type": "code",
   "execution_count": 17,
   "metadata": {},
   "outputs": [
    {
     "data": {
      "text/plain": [
       "0"
      ]
     },
     "execution_count": 17,
     "metadata": {},
     "output_type": "execute_result"
    }
   ],
   "source": [
    "#Checking number of duplicates in the dataset\n",
    "len(df[df.duplicated()])"
   ]
  },
  {
   "cell_type": "code",
   "execution_count": 18,
   "metadata": {},
   "outputs": [
    {
     "data": {
      "text/html": [
       "<div>\n",
       "<style scoped>\n",
       "    .dataframe tbody tr th:only-of-type {\n",
       "        vertical-align: middle;\n",
       "    }\n",
       "\n",
       "    .dataframe tbody tr th {\n",
       "        vertical-align: top;\n",
       "    }\n",
       "\n",
       "    .dataframe thead th {\n",
       "        text-align: right;\n",
       "    }\n",
       "</style>\n",
       "<table border=\"1\" class=\"dataframe\">\n",
       "  <thead>\n",
       "    <tr style=\"text-align: right;\">\n",
       "      <th></th>\n",
       "      <th>Missing values (%)</th>\n",
       "    </tr>\n",
       "  </thead>\n",
       "  <tbody>\n",
       "    <tr>\n",
       "      <th>ride_id</th>\n",
       "      <td>0.000000</td>\n",
       "    </tr>\n",
       "    <tr>\n",
       "      <th>rideable_type</th>\n",
       "      <td>0.000000</td>\n",
       "    </tr>\n",
       "    <tr>\n",
       "      <th>started_at</th>\n",
       "      <td>0.000000</td>\n",
       "    </tr>\n",
       "    <tr>\n",
       "      <th>ended_at</th>\n",
       "      <td>0.000000</td>\n",
       "    </tr>\n",
       "    <tr>\n",
       "      <th>start_station_name</th>\n",
       "      <td>4.958193</td>\n",
       "    </tr>\n",
       "    <tr>\n",
       "      <th>start_station_id</th>\n",
       "      <td>4.973560</td>\n",
       "    </tr>\n",
       "    <tr>\n",
       "      <th>end_station_name</th>\n",
       "      <td>5.626281</td>\n",
       "    </tr>\n",
       "    <tr>\n",
       "      <th>end_station_id</th>\n",
       "      <td>5.637598</td>\n",
       "    </tr>\n",
       "    <tr>\n",
       "      <th>start_lat</th>\n",
       "      <td>0.000000</td>\n",
       "    </tr>\n",
       "    <tr>\n",
       "      <th>start_lng</th>\n",
       "      <td>0.000000</td>\n",
       "    </tr>\n",
       "    <tr>\n",
       "      <th>end_lat</th>\n",
       "      <td>0.123651</td>\n",
       "    </tr>\n",
       "    <tr>\n",
       "      <th>end_lng</th>\n",
       "      <td>0.123651</td>\n",
       "    </tr>\n",
       "    <tr>\n",
       "      <th>member_casual</th>\n",
       "      <td>0.000000</td>\n",
       "    </tr>\n",
       "  </tbody>\n",
       "</table>\n",
       "</div>"
      ],
      "text/plain": [
       "                    Missing values (%)\n",
       "ride_id                       0.000000\n",
       "rideable_type                 0.000000\n",
       "started_at                    0.000000\n",
       "ended_at                      0.000000\n",
       "start_station_name            4.958193\n",
       "start_station_id              4.973560\n",
       "end_station_name              5.626281\n",
       "end_station_id                5.637598\n",
       "start_lat                     0.000000\n",
       "start_lng                     0.000000\n",
       "end_lat                       0.123651\n",
       "end_lng                       0.123651\n",
       "member_casual                 0.000000"
      ]
     },
     "execution_count": 18,
     "metadata": {},
     "output_type": "execute_result"
    }
   ],
   "source": [
    "#Checking the percentage of missing values in each column\n",
    "pd.DataFrame({\"Missing values (%)\": df.isnull().sum()/len(df.index)*100})"
   ]
  },
  {
   "cell_type": "code",
   "execution_count": 24,
   "metadata": {},
   "outputs": [
    {
     "data": {
      "text/plain": [
       "4073352"
      ]
     },
     "execution_count": 24,
     "metadata": {},
     "output_type": "execute_result"
    }
   ],
   "source": [
    "#Checking if all rides have a unique ID\n",
    "len(df[\"ride_id\"].unique())"
   ]
  },
  {
   "cell_type": "code",
   "execution_count": 25,
   "metadata": {},
   "outputs": [
    {
     "data": {
      "text/plain": [
       "array(['electric_bike', 'docked_bike', 'classic_bike'], dtype=object)"
      ]
     },
     "execution_count": 25,
     "metadata": {},
     "output_type": "execute_result"
    }
   ],
   "source": [
    "#Checking different types of 'rideable_type'\n",
    "df[\"rideable_type\"].unique()"
   ]
  },
  {
   "cell_type": "code",
   "execution_count": 26,
   "metadata": {},
   "outputs": [
    {
     "data": {
      "text/html": [
       "<div>\n",
       "<style scoped>\n",
       "    .dataframe tbody tr th:only-of-type {\n",
       "        vertical-align: middle;\n",
       "    }\n",
       "\n",
       "    .dataframe tbody tr th {\n",
       "        vertical-align: top;\n",
       "    }\n",
       "\n",
       "    .dataframe thead th {\n",
       "        text-align: right;\n",
       "    }\n",
       "</style>\n",
       "<table border=\"1\" class=\"dataframe\">\n",
       "  <thead>\n",
       "    <tr style=\"text-align: right;\">\n",
       "      <th></th>\n",
       "      <th>Number of Start Station ID</th>\n",
       "      <th>Number of Start Station Name</th>\n",
       "    </tr>\n",
       "  </thead>\n",
       "  <tbody>\n",
       "    <tr>\n",
       "      <th>0</th>\n",
       "      <td>1357</td>\n",
       "      <td>716</td>\n",
       "    </tr>\n",
       "  </tbody>\n",
       "</table>\n",
       "</div>"
      ],
      "text/plain": [
       "   Number of Start Station ID  Number of Start Station Name\n",
       "0                        1357                           716"
      ]
     },
     "execution_count": 26,
     "metadata": {},
     "output_type": "execute_result"
    }
   ],
   "source": [
    "#Checking if unique 'start_station_id' maps to unique 'start_station_name'\n",
    "pd.DataFrame({'Number of Start Station ID':[len(df[\"start_station_id\"].unique())],\n",
    "             'Number of Start Station Name':[len(df[\"start_station_name\"].unique())]})"
   ]
  },
  {
   "cell_type": "code",
   "execution_count": 27,
   "metadata": {},
   "outputs": [
    {
     "data": {
      "text/html": [
       "<div>\n",
       "<style scoped>\n",
       "    .dataframe tbody tr th:only-of-type {\n",
       "        vertical-align: middle;\n",
       "    }\n",
       "\n",
       "    .dataframe tbody tr th {\n",
       "        vertical-align: top;\n",
       "    }\n",
       "\n",
       "    .dataframe thead th {\n",
       "        text-align: right;\n",
       "    }\n",
       "</style>\n",
       "<table border=\"1\" class=\"dataframe\">\n",
       "  <thead>\n",
       "    <tr style=\"text-align: right;\">\n",
       "      <th></th>\n",
       "      <th>Number of End Station ID</th>\n",
       "      <th>Number of End Station Name</th>\n",
       "    </tr>\n",
       "  </thead>\n",
       "  <tbody>\n",
       "    <tr>\n",
       "      <th>0</th>\n",
       "      <td>1357</td>\n",
       "      <td>717</td>\n",
       "    </tr>\n",
       "  </tbody>\n",
       "</table>\n",
       "</div>"
      ],
      "text/plain": [
       "   Number of End Station ID  Number of End Station Name\n",
       "0                      1357                         717"
      ]
     },
     "execution_count": 27,
     "metadata": {},
     "output_type": "execute_result"
    }
   ],
   "source": [
    "#Checking if unique 'end_station_id' maps to unique 'end_station_name'\n",
    "pd.DataFrame({'Number of End Station ID':[len(df[\"end_station_id\"].unique())],\n",
    "             'Number of End Station Name':[len(df[\"end_station_name\"].unique())]})"
   ]
  },
  {
   "cell_type": "code",
   "execution_count": 31,
   "metadata": {},
   "outputs": [
    {
     "data": {
      "text/html": [
       "<div>\n",
       "<style scoped>\n",
       "    .dataframe tbody tr th:only-of-type {\n",
       "        vertical-align: middle;\n",
       "    }\n",
       "\n",
       "    .dataframe tbody tr th {\n",
       "        vertical-align: top;\n",
       "    }\n",
       "\n",
       "    .dataframe thead th {\n",
       "        text-align: right;\n",
       "    }\n",
       "</style>\n",
       "<table border=\"1\" class=\"dataframe\">\n",
       "  <thead>\n",
       "    <tr style=\"text-align: right;\">\n",
       "      <th></th>\n",
       "      <th>start_lat</th>\n",
       "      <th>start_lng</th>\n",
       "      <th>end_lat</th>\n",
       "      <th>end_lng</th>\n",
       "    </tr>\n",
       "  </thead>\n",
       "  <tbody>\n",
       "    <tr>\n",
       "      <th>count</th>\n",
       "      <td>4.073561e+06</td>\n",
       "      <td>4.073561e+06</td>\n",
       "      <td>4.068524e+06</td>\n",
       "      <td>4.068524e+06</td>\n",
       "    </tr>\n",
       "    <tr>\n",
       "      <th>mean</th>\n",
       "      <td>4.190331e+01</td>\n",
       "      <td>-8.764451e+01</td>\n",
       "      <td>4.190360e+01</td>\n",
       "      <td>-8.764479e+01</td>\n",
       "    </tr>\n",
       "    <tr>\n",
       "      <th>std</th>\n",
       "      <td>4.404066e-02</td>\n",
       "      <td>2.598052e-02</td>\n",
       "      <td>4.412742e-02</td>\n",
       "      <td>2.611267e-02</td>\n",
       "    </tr>\n",
       "    <tr>\n",
       "      <th>min</th>\n",
       "      <td>4.164000e+01</td>\n",
       "      <td>-8.787000e+01</td>\n",
       "      <td>4.154000e+01</td>\n",
       "      <td>-8.807000e+01</td>\n",
       "    </tr>\n",
       "    <tr>\n",
       "      <th>25%</th>\n",
       "      <td>4.188213e+01</td>\n",
       "      <td>-8.765875e+01</td>\n",
       "      <td>4.188224e+01</td>\n",
       "      <td>-8.765887e+01</td>\n",
       "    </tr>\n",
       "    <tr>\n",
       "      <th>50%</th>\n",
       "      <td>4.189964e+01</td>\n",
       "      <td>-8.764107e+01</td>\n",
       "      <td>4.190000e+01</td>\n",
       "      <td>-8.764129e+01</td>\n",
       "    </tr>\n",
       "    <tr>\n",
       "      <th>75%</th>\n",
       "      <td>4.192955e+01</td>\n",
       "      <td>-8.762759e+01</td>\n",
       "      <td>4.192958e+01</td>\n",
       "      <td>-8.762769e+01</td>\n",
       "    </tr>\n",
       "    <tr>\n",
       "      <th>max</th>\n",
       "      <td>4.208000e+01</td>\n",
       "      <td>-8.752000e+01</td>\n",
       "      <td>4.216000e+01</td>\n",
       "      <td>-8.744000e+01</td>\n",
       "    </tr>\n",
       "  </tbody>\n",
       "</table>\n",
       "</div>"
      ],
      "text/plain": [
       "          start_lat     start_lng       end_lat       end_lng\n",
       "count  4.073561e+06  4.073561e+06  4.068524e+06  4.068524e+06\n",
       "mean   4.190331e+01 -8.764451e+01  4.190360e+01 -8.764479e+01\n",
       "std    4.404066e-02  2.598052e-02  4.412742e-02  2.611267e-02\n",
       "min    4.164000e+01 -8.787000e+01  4.154000e+01 -8.807000e+01\n",
       "25%    4.188213e+01 -8.765875e+01  4.188224e+01 -8.765887e+01\n",
       "50%    4.189964e+01 -8.764107e+01  4.190000e+01 -8.764129e+01\n",
       "75%    4.192955e+01 -8.762759e+01  4.192958e+01 -8.762769e+01\n",
       "max    4.208000e+01 -8.752000e+01  4.216000e+01 -8.744000e+01"
      ]
     },
     "execution_count": 31,
     "metadata": {},
     "output_type": "execute_result"
    }
   ],
   "source": [
    "#Checking some general statistics for columns with numeric datatype\n",
    "df.describe()"
   ]
  },
  {
   "cell_type": "code",
   "execution_count": 28,
   "metadata": {},
   "outputs": [
    {
     "data": {
      "text/plain": [
       "member    57.939601\n",
       "casual    42.060399\n",
       "Name: member_casual, dtype: float64"
      ]
     },
     "execution_count": 28,
     "metadata": {},
     "output_type": "execute_result"
    }
   ],
   "source": [
    "#Checking the percentage of members/casuals\n",
    "df[\"member_casual\"].value_counts()/len(df.index)*100"
   ]
  },
  {
   "cell_type": "markdown",
   "metadata": {},
   "source": [
    "<a id='s21'></a>\n",
    "\n",
    "#### Obervations\n",
    "\n",
    "* Columns `started_at, ended_at` need to converted into `datetime` format and `start_station_id, end_station_id` need to be converted into `int64` format.\n",
    "\n",
    "* There are no duplicates in the dataset.\n",
    "\n",
    "* There are missing values in `start_station_name, start_station_id, end_station_name, end_station_id, end_lat, end_lng`.\n",
    "\n",
    "* Not all rides have a unique ID as the number of unique `ride_id` is not equal to the number of entries (and there are no missing values in that column).\n",
    "\n",
    "* There are 3 types of bikes available.\n",
    "\n",
    "* The number of `start_station_id` and `start_station_name` do not match. So there could be more than 1 station_id with the same station name or there is an error. The same goes for `end_station_id` and `end_station_name`."
   ]
  },
  {
   "cell_type": "markdown",
   "metadata": {},
   "source": [
    "Let's tackle some of the observations made"
   ]
  },
  {
   "cell_type": "code",
   "execution_count": 14,
   "metadata": {},
   "outputs": [],
   "source": [
    "#Dropping records containing NaN values\n",
    "df.dropna(inplace=True)"
   ]
  },
  {
   "cell_type": "code",
   "execution_count": 50,
   "metadata": {},
   "outputs": [],
   "source": [
    "#Converting columns to appropriate datatypes\n",
    "df[\"started_at\"] = pd.to_datetime(df[\"started_at\"])\n",
    "df[\"ended_at\"] = pd.to_datetime(df[\"ended_at\"])"
   ]
  },
  {
   "cell_type": "code",
   "execution_count": 7,
   "metadata": {},
   "outputs": [
    {
     "data": {
      "text/html": [
       "<div>\n",
       "<style scoped>\n",
       "    .dataframe tbody tr th:only-of-type {\n",
       "        vertical-align: middle;\n",
       "    }\n",
       "\n",
       "    .dataframe tbody tr th {\n",
       "        vertical-align: top;\n",
       "    }\n",
       "\n",
       "    .dataframe thead th {\n",
       "        text-align: right;\n",
       "    }\n",
       "</style>\n",
       "<table border=\"1\" class=\"dataframe\">\n",
       "  <thead>\n",
       "    <tr style=\"text-align: right;\">\n",
       "      <th></th>\n",
       "      <th>ride_id</th>\n",
       "      <th>rideable_type</th>\n",
       "      <th>started_at</th>\n",
       "      <th>ended_at</th>\n",
       "      <th>start_station_name</th>\n",
       "      <th>start_station_id</th>\n",
       "      <th>end_station_name</th>\n",
       "      <th>end_station_id</th>\n",
       "      <th>start_lat</th>\n",
       "      <th>start_lng</th>\n",
       "      <th>end_lat</th>\n",
       "      <th>end_lng</th>\n",
       "      <th>member_casual</th>\n",
       "    </tr>\n",
       "  </thead>\n",
       "  <tbody>\n",
       "    <tr>\n",
       "      <th>599839</th>\n",
       "      <td>CDA12952E2FC2D99</td>\n",
       "      <td>docked_bike</td>\n",
       "      <td>2020-12-15 11:39:19</td>\n",
       "      <td>2020-11-25 10:16:59</td>\n",
       "      <td>Damen Ave &amp; Thomas St (Augusta Blvd)</td>\n",
       "      <td>TA1307000070</td>\n",
       "      <td>Morgan St &amp; Polk St</td>\n",
       "      <td>TA1307000130</td>\n",
       "      <td>41.901315</td>\n",
       "      <td>-87.677409</td>\n",
       "      <td>41.871737</td>\n",
       "      <td>-87.651030</td>\n",
       "      <td>member</td>\n",
       "    </tr>\n",
       "    <tr>\n",
       "      <th>599998</th>\n",
       "      <td>934AEDB1B6C094EC</td>\n",
       "      <td>docked_bike</td>\n",
       "      <td>2020-12-15 11:46:37</td>\n",
       "      <td>2020-11-25 13:16:56</td>\n",
       "      <td>Throop St &amp; Taylor St</td>\n",
       "      <td>13139</td>\n",
       "      <td>Halsted St &amp; Polk St</td>\n",
       "      <td>TA1307000121</td>\n",
       "      <td>41.868968</td>\n",
       "      <td>-87.659141</td>\n",
       "      <td>41.871840</td>\n",
       "      <td>-87.646640</td>\n",
       "      <td>member</td>\n",
       "    </tr>\n",
       "    <tr>\n",
       "      <th>600369</th>\n",
       "      <td>F9338303AF8415BA</td>\n",
       "      <td>docked_bike</td>\n",
       "      <td>2020-12-15 12:12:41</td>\n",
       "      <td>2020-11-25 13:52:21</td>\n",
       "      <td>Burnham Harbor</td>\n",
       "      <td>15545</td>\n",
       "      <td>Indiana Ave &amp; Roosevelt Rd</td>\n",
       "      <td>SL-005</td>\n",
       "      <td>41.856268</td>\n",
       "      <td>-87.613348</td>\n",
       "      <td>41.867888</td>\n",
       "      <td>-87.623041</td>\n",
       "      <td>member</td>\n",
       "    </tr>\n",
       "    <tr>\n",
       "      <th>600551</th>\n",
       "      <td>789640C9FEF98525</td>\n",
       "      <td>docked_bike</td>\n",
       "      <td>2020-12-15 11:47:48</td>\n",
       "      <td>2020-11-25 12:58:40</td>\n",
       "      <td>State St &amp; 19th St</td>\n",
       "      <td>SL-013</td>\n",
       "      <td>Indiana Ave &amp; Roosevelt Rd</td>\n",
       "      <td>SL-005</td>\n",
       "      <td>41.856594</td>\n",
       "      <td>-87.627542</td>\n",
       "      <td>41.867888</td>\n",
       "      <td>-87.623041</td>\n",
       "      <td>member</td>\n",
       "    </tr>\n",
       "    <tr>\n",
       "      <th>600566</th>\n",
       "      <td>52C655580214D2EF</td>\n",
       "      <td>docked_bike</td>\n",
       "      <td>2020-12-15 12:05:19</td>\n",
       "      <td>2020-11-25 19:03:00</td>\n",
       "      <td>Milwaukee Ave &amp; Wabansia Ave</td>\n",
       "      <td>13243</td>\n",
       "      <td>Wood St &amp; Chicago Ave</td>\n",
       "      <td>637</td>\n",
       "      <td>41.912616</td>\n",
       "      <td>-87.681391</td>\n",
       "      <td>41.895634</td>\n",
       "      <td>-87.672069</td>\n",
       "      <td>member</td>\n",
       "    </tr>\n",
       "  </tbody>\n",
       "</table>\n",
       "</div>"
      ],
      "text/plain": [
       "                 ride_id rideable_type           started_at  \\\n",
       "599839  CDA12952E2FC2D99   docked_bike  2020-12-15 11:39:19   \n",
       "599998  934AEDB1B6C094EC   docked_bike  2020-12-15 11:46:37   \n",
       "600369  F9338303AF8415BA   docked_bike  2020-12-15 12:12:41   \n",
       "600551  789640C9FEF98525   docked_bike  2020-12-15 11:47:48   \n",
       "600566  52C655580214D2EF   docked_bike  2020-12-15 12:05:19   \n",
       "\n",
       "                   ended_at                    start_station_name  \\\n",
       "599839  2020-11-25 10:16:59  Damen Ave & Thomas St (Augusta Blvd)   \n",
       "599998  2020-11-25 13:16:56                 Throop St & Taylor St   \n",
       "600369  2020-11-25 13:52:21                        Burnham Harbor   \n",
       "600551  2020-11-25 12:58:40                    State St & 19th St   \n",
       "600566  2020-11-25 19:03:00          Milwaukee Ave & Wabansia Ave   \n",
       "\n",
       "       start_station_id            end_station_name end_station_id  start_lat  \\\n",
       "599839     TA1307000070         Morgan St & Polk St   TA1307000130  41.901315   \n",
       "599998            13139        Halsted St & Polk St   TA1307000121  41.868968   \n",
       "600369            15545  Indiana Ave & Roosevelt Rd         SL-005  41.856268   \n",
       "600551           SL-013  Indiana Ave & Roosevelt Rd         SL-005  41.856594   \n",
       "600566            13243       Wood St & Chicago Ave            637  41.912616   \n",
       "\n",
       "        start_lng    end_lat    end_lng member_casual  \n",
       "599839 -87.677409  41.871737 -87.651030        member  \n",
       "599998 -87.659141  41.871840 -87.646640        member  \n",
       "600369 -87.613348  41.867888 -87.623041        member  \n",
       "600551 -87.627542  41.867888 -87.623041        member  \n",
       "600566 -87.681391  41.895634 -87.672069        member  "
      ]
     },
     "execution_count": 7,
     "metadata": {},
     "output_type": "execute_result"
    }
   ],
   "source": [
    "df[df[\"ride_id\"].duplicated()].head()"
   ]
  },
  {
   "cell_type": "code",
   "execution_count": 10,
   "metadata": {},
   "outputs": [
    {
     "data": {
      "text/html": [
       "<div>\n",
       "<style scoped>\n",
       "    .dataframe tbody tr th:only-of-type {\n",
       "        vertical-align: middle;\n",
       "    }\n",
       "\n",
       "    .dataframe tbody tr th {\n",
       "        vertical-align: top;\n",
       "    }\n",
       "\n",
       "    .dataframe thead th {\n",
       "        text-align: right;\n",
       "    }\n",
       "</style>\n",
       "<table border=\"1\" class=\"dataframe\">\n",
       "  <thead>\n",
       "    <tr style=\"text-align: right;\">\n",
       "      <th></th>\n",
       "      <th>ride_id</th>\n",
       "      <th>rideable_type</th>\n",
       "      <th>started_at</th>\n",
       "      <th>ended_at</th>\n",
       "      <th>start_station_name</th>\n",
       "      <th>start_station_id</th>\n",
       "      <th>end_station_name</th>\n",
       "      <th>end_station_id</th>\n",
       "      <th>start_lat</th>\n",
       "      <th>start_lng</th>\n",
       "      <th>end_lat</th>\n",
       "      <th>end_lng</th>\n",
       "      <th>member_casual</th>\n",
       "    </tr>\n",
       "  </thead>\n",
       "  <tbody>\n",
       "    <tr>\n",
       "      <th>79161</th>\n",
       "      <td>52C655580214D2EF</td>\n",
       "      <td>docked_bike</td>\n",
       "      <td>2020-11-25 18:48:50</td>\n",
       "      <td>2020-11-25 19:03:00</td>\n",
       "      <td>Milwaukee Ave &amp; Wabansia Ave</td>\n",
       "      <td>158</td>\n",
       "      <td>Wood St &amp; Chicago Ave</td>\n",
       "      <td>637</td>\n",
       "      <td>41.912616</td>\n",
       "      <td>-87.681391</td>\n",
       "      <td>41.895634</td>\n",
       "      <td>-87.672069</td>\n",
       "      <td>member</td>\n",
       "    </tr>\n",
       "    <tr>\n",
       "      <th>600566</th>\n",
       "      <td>52C655580214D2EF</td>\n",
       "      <td>docked_bike</td>\n",
       "      <td>2020-12-15 12:05:19</td>\n",
       "      <td>2020-11-25 19:03:00</td>\n",
       "      <td>Milwaukee Ave &amp; Wabansia Ave</td>\n",
       "      <td>13243</td>\n",
       "      <td>Wood St &amp; Chicago Ave</td>\n",
       "      <td>637</td>\n",
       "      <td>41.912616</td>\n",
       "      <td>-87.681391</td>\n",
       "      <td>41.895634</td>\n",
       "      <td>-87.672069</td>\n",
       "      <td>member</td>\n",
       "    </tr>\n",
       "  </tbody>\n",
       "</table>\n",
       "</div>"
      ],
      "text/plain": [
       "                 ride_id rideable_type           started_at  \\\n",
       "79161   52C655580214D2EF   docked_bike  2020-11-25 18:48:50   \n",
       "600566  52C655580214D2EF   docked_bike  2020-12-15 12:05:19   \n",
       "\n",
       "                   ended_at            start_station_name start_station_id  \\\n",
       "79161   2020-11-25 19:03:00  Milwaukee Ave & Wabansia Ave              158   \n",
       "600566  2020-11-25 19:03:00  Milwaukee Ave & Wabansia Ave            13243   \n",
       "\n",
       "             end_station_name end_station_id  start_lat  start_lng    end_lat  \\\n",
       "79161   Wood St & Chicago Ave            637  41.912616 -87.681391  41.895634   \n",
       "600566  Wood St & Chicago Ave            637  41.912616 -87.681391  41.895634   \n",
       "\n",
       "          end_lng member_casual  \n",
       "79161  -87.672069        member  \n",
       "600566 -87.672069        member  "
      ]
     },
     "execution_count": 10,
     "metadata": {},
     "output_type": "execute_result"
    }
   ],
   "source": [
    "df[df[\"ride_id\"]==\"52C655580214D2EF\"]"
   ]
  },
  {
   "cell_type": "markdown",
   "metadata": {},
   "source": [
    "We see there are duplicates but they were earlier undetected because of different erroneous values for `start_station_id, end_station_id`. So we have to remove such rows."
   ]
  },
  {
   "cell_type": "code",
   "execution_count": 17,
   "metadata": {},
   "outputs": [],
   "source": [
    "df[\"ride_id\"] = df[\"ride_id\"].drop_duplicates()\n",
    "df.dropna(inplace=True)"
   ]
  },
  {
   "cell_type": "code",
   "execution_count": 19,
   "metadata": {},
   "outputs": [
    {
     "data": {
      "text/html": [
       "<div>\n",
       "<style scoped>\n",
       "    .dataframe tbody tr th:only-of-type {\n",
       "        vertical-align: middle;\n",
       "    }\n",
       "\n",
       "    .dataframe tbody tr th {\n",
       "        vertical-align: top;\n",
       "    }\n",
       "\n",
       "    .dataframe thead th {\n",
       "        text-align: right;\n",
       "    }\n",
       "</style>\n",
       "<table border=\"1\" class=\"dataframe\">\n",
       "  <thead>\n",
       "    <tr style=\"text-align: right;\">\n",
       "      <th></th>\n",
       "      <th>Missing values (%)</th>\n",
       "    </tr>\n",
       "  </thead>\n",
       "  <tbody>\n",
       "    <tr>\n",
       "      <th>ride_id</th>\n",
       "      <td>0.0</td>\n",
       "    </tr>\n",
       "    <tr>\n",
       "      <th>rideable_type</th>\n",
       "      <td>0.0</td>\n",
       "    </tr>\n",
       "    <tr>\n",
       "      <th>started_at</th>\n",
       "      <td>0.0</td>\n",
       "    </tr>\n",
       "    <tr>\n",
       "      <th>ended_at</th>\n",
       "      <td>0.0</td>\n",
       "    </tr>\n",
       "    <tr>\n",
       "      <th>start_station_name</th>\n",
       "      <td>0.0</td>\n",
       "    </tr>\n",
       "    <tr>\n",
       "      <th>start_station_id</th>\n",
       "      <td>0.0</td>\n",
       "    </tr>\n",
       "    <tr>\n",
       "      <th>end_station_name</th>\n",
       "      <td>0.0</td>\n",
       "    </tr>\n",
       "    <tr>\n",
       "      <th>end_station_id</th>\n",
       "      <td>0.0</td>\n",
       "    </tr>\n",
       "    <tr>\n",
       "      <th>start_lat</th>\n",
       "      <td>0.0</td>\n",
       "    </tr>\n",
       "    <tr>\n",
       "      <th>start_lng</th>\n",
       "      <td>0.0</td>\n",
       "    </tr>\n",
       "    <tr>\n",
       "      <th>end_lat</th>\n",
       "      <td>0.0</td>\n",
       "    </tr>\n",
       "    <tr>\n",
       "      <th>end_lng</th>\n",
       "      <td>0.0</td>\n",
       "    </tr>\n",
       "    <tr>\n",
       "      <th>member_casual</th>\n",
       "      <td>0.0</td>\n",
       "    </tr>\n",
       "  </tbody>\n",
       "</table>\n",
       "</div>"
      ],
      "text/plain": [
       "                    Missing values (%)\n",
       "ride_id                            0.0\n",
       "rideable_type                      0.0\n",
       "started_at                         0.0\n",
       "ended_at                           0.0\n",
       "start_station_name                 0.0\n",
       "start_station_id                   0.0\n",
       "end_station_name                   0.0\n",
       "end_station_id                     0.0\n",
       "start_lat                          0.0\n",
       "start_lng                          0.0\n",
       "end_lat                            0.0\n",
       "end_lng                            0.0\n",
       "member_casual                      0.0"
      ]
     },
     "execution_count": 19,
     "metadata": {},
     "output_type": "execute_result"
    }
   ],
   "source": [
    "pd.DataFrame({\"Missing values (%)\": df.isnull().sum()/len(df.index)*100})"
   ]
  },
  {
   "cell_type": "code",
   "execution_count": 38,
   "metadata": {},
   "outputs": [],
   "source": [
    "#Including only those IDs which have a numeric value\n",
    "df = df[pd.to_numeric(df['start_station_id'], errors='coerce').notnull()]\n",
    "df = df[pd.to_numeric(df['end_station_id'], errors='coerce').notnull()]"
   ]
  },
  {
   "cell_type": "code",
   "execution_count": 39,
   "metadata": {},
   "outputs": [],
   "source": [
    "#Converting columns to appropriate datatypes\n",
    "df[\"start_station_id\"] = df[\"start_station_id\"].astype(\"float64\")\n",
    "df[\"end_station_id\"] = df[\"end_station_id\"].astype(\"float64\")"
   ]
  },
  {
   "cell_type": "code",
   "execution_count": 40,
   "metadata": {},
   "outputs": [
    {
     "name": "stdout",
     "output_type": "stream",
     "text": [
      "<class 'pandas.core.frame.DataFrame'>\n",
      "Int64Index: 2834530 entries, 0 to 4073545\n",
      "Data columns (total 13 columns):\n",
      " #   Column              Dtype  \n",
      "---  ------              -----  \n",
      " 0   ride_id             object \n",
      " 1   rideable_type       object \n",
      " 2   started_at          object \n",
      " 3   ended_at            object \n",
      " 4   start_station_name  object \n",
      " 5   start_station_id    float64\n",
      " 6   end_station_name    object \n",
      " 7   end_station_id      float64\n",
      " 8   start_lat           float64\n",
      " 9   start_lng           float64\n",
      " 10  end_lat             float64\n",
      " 11  end_lng             float64\n",
      " 12  member_casual       object \n",
      "dtypes: float64(6), object(7)\n",
      "memory usage: 302.8+ MB\n"
     ]
    }
   ],
   "source": [
    "df.info()"
   ]
  },
  {
   "cell_type": "code",
   "execution_count": 41,
   "metadata": {},
   "outputs": [
    {
     "data": {
      "text/html": [
       "<div>\n",
       "<style scoped>\n",
       "    .dataframe tbody tr th:only-of-type {\n",
       "        vertical-align: middle;\n",
       "    }\n",
       "\n",
       "    .dataframe tbody tr th {\n",
       "        vertical-align: top;\n",
       "    }\n",
       "\n",
       "    .dataframe thead th {\n",
       "        text-align: right;\n",
       "    }\n",
       "</style>\n",
       "<table border=\"1\" class=\"dataframe\">\n",
       "  <thead>\n",
       "    <tr style=\"text-align: right;\">\n",
       "      <th></th>\n",
       "      <th>Number of Start Station ID</th>\n",
       "      <th>Number of Start Station Name</th>\n",
       "    </tr>\n",
       "  </thead>\n",
       "  <tbody>\n",
       "    <tr>\n",
       "      <th>0</th>\n",
       "      <td>961</td>\n",
       "      <td>702</td>\n",
       "    </tr>\n",
       "  </tbody>\n",
       "</table>\n",
       "</div>"
      ],
      "text/plain": [
       "   Number of Start Station ID  Number of Start Station Name\n",
       "0                         961                           702"
      ]
     },
     "execution_count": 41,
     "metadata": {},
     "output_type": "execute_result"
    }
   ],
   "source": [
    "pd.DataFrame({'Number of Start Station ID':[len(df[\"start_station_id\"].unique())],\n",
    "             'Number of Start Station Name':[len(df[\"start_station_name\"].unique())]})"
   ]
  },
  {
   "cell_type": "code",
   "execution_count": 42,
   "metadata": {},
   "outputs": [
    {
     "data": {
      "text/html": [
       "<div>\n",
       "<style scoped>\n",
       "    .dataframe tbody tr th:only-of-type {\n",
       "        vertical-align: middle;\n",
       "    }\n",
       "\n",
       "    .dataframe tbody tr th {\n",
       "        vertical-align: top;\n",
       "    }\n",
       "\n",
       "    .dataframe thead th {\n",
       "        text-align: right;\n",
       "    }\n",
       "</style>\n",
       "<table border=\"1\" class=\"dataframe\">\n",
       "  <thead>\n",
       "    <tr style=\"text-align: right;\">\n",
       "      <th></th>\n",
       "      <th>Number of End Station ID</th>\n",
       "      <th>Number of End Station Name</th>\n",
       "    </tr>\n",
       "  </thead>\n",
       "  <tbody>\n",
       "    <tr>\n",
       "      <th>0</th>\n",
       "      <td>965</td>\n",
       "      <td>707</td>\n",
       "    </tr>\n",
       "  </tbody>\n",
       "</table>\n",
       "</div>"
      ],
      "text/plain": [
       "   Number of End Station ID  Number of End Station Name\n",
       "0                       965                         707"
      ]
     },
     "execution_count": 42,
     "metadata": {},
     "output_type": "execute_result"
    }
   ],
   "source": [
    "pd.DataFrame({'Number of End Station ID':[len(df[\"end_station_id\"].unique())],\n",
    "             'Number of End Station Name':[len(df[\"end_station_name\"].unique())]})"
   ]
  },
  {
   "cell_type": "markdown",
   "metadata": {},
   "source": [
    "We see that the number of IDs is still greater than the number of names. Since there are no missing values, we can assume that some station names have more than one ID."
   ]
  },
  {
   "cell_type": "code",
   "execution_count": 47,
   "metadata": {},
   "outputs": [],
   "source": [
    "df.reset_index(drop=True,inplace=True)"
   ]
  },
  {
   "cell_type": "markdown",
   "metadata": {},
   "source": [
    "<a id='s22'></a>\n",
    "\n",
    "#### Cleaning Steps done\n",
    "\n",
    "* Removed NaN values.\n",
    "* Converted columns to apprpriate datatypes.\n",
    "* Dropped duplicates from particular columns."
   ]
  },
  {
   "cell_type": "markdown",
   "metadata": {},
   "source": [
    "---"
   ]
  },
  {
   "cell_type": "markdown",
   "metadata": {},
   "source": [
    "<a id='s3'></a>\n",
    "\n",
    "## Data Transformation"
   ]
  },
  {
   "cell_type": "markdown",
   "metadata": {},
   "source": [
    "Here we make new columns so that we can analyse the data in a better way."
   ]
  },
  {
   "cell_type": "code",
   "execution_count": 51,
   "metadata": {},
   "outputs": [],
   "source": [
    "#Adding column to find out ride duration in Hours:Minutes:Seconds\n",
    "df[\"ride_duration\"] = df[\"ended_at\"] - df[\"started_at\"]"
   ]
  },
  {
   "cell_type": "code",
   "execution_count": null,
   "metadata": {},
   "outputs": [],
   "source": [
    "#Adding column to find distance covered in kilometers\n",
    "dist_list = []\n",
    "for i in range(len(df.index)):\n",
    "    dist_list.append(hs.haversine((df[\"start_lat\"][i],df[\"start_lng\"][i]),(df[\"end_lat\"][i],df[\"end_lng\"][i])))\n",
    "    #print(i,\"/\",len(df.index))\n",
    "\n",
    "\n",
    "df[\"distance_covered\"] = dist_list"
   ]
  },
  {
   "cell_type": "code",
   "execution_count": 56,
   "metadata": {},
   "outputs": [],
   "source": [
    "#Adding column to find which day of the week did the ride start\n",
    "df[\"day_of_week\"] = df[\"started_at\"].dt.dayofweek\n",
    "\n",
    "#Monday -> 0\n",
    "#Tuesday -> 1\n",
    "#..."
   ]
  },
  {
   "cell_type": "code",
   "execution_count": 57,
   "metadata": {},
   "outputs": [
    {
     "name": "stdout",
     "output_type": "stream",
     "text": [
      "<class 'pandas.core.frame.DataFrame'>\n",
      "RangeIndex: 2834530 entries, 0 to 2834529\n",
      "Data columns (total 16 columns):\n",
      " #   Column              Dtype          \n",
      "---  ------              -----          \n",
      " 0   ride_id             object         \n",
      " 1   rideable_type       object         \n",
      " 2   started_at          datetime64[ns] \n",
      " 3   ended_at            datetime64[ns] \n",
      " 4   start_station_name  object         \n",
      " 5   start_station_id    float64        \n",
      " 6   end_station_name    object         \n",
      " 7   end_station_id      float64        \n",
      " 8   start_lat           float64        \n",
      " 9   start_lng           float64        \n",
      " 10  end_lat             float64        \n",
      " 11  end_lng             float64        \n",
      " 12  member_casual       object         \n",
      " 13  ride_duration       timedelta64[ns]\n",
      " 14  distance_covered    float64        \n",
      " 15  day_of_week         int64          \n",
      "dtypes: datetime64[ns](2), float64(7), int64(1), object(5), timedelta64[ns](1)\n",
      "memory usage: 346.0+ MB\n"
     ]
    }
   ],
   "source": [
    "#Looking at our new formed table\n",
    "df.info()"
   ]
  },
  {
   "cell_type": "markdown",
   "metadata": {},
   "source": [
    "Let's do some exploratory analysis on the new columns."
   ]
  },
  {
   "cell_type": "code",
   "execution_count": 117,
   "metadata": {},
   "outputs": [
    {
     "data": {
      "text/html": [
       "<div>\n",
       "<style scoped>\n",
       "    .dataframe tbody tr th:only-of-type {\n",
       "        vertical-align: middle;\n",
       "    }\n",
       "\n",
       "    .dataframe tbody tr th {\n",
       "        vertical-align: top;\n",
       "    }\n",
       "\n",
       "    .dataframe thead th {\n",
       "        text-align: right;\n",
       "    }\n",
       "</style>\n",
       "<table border=\"1\" class=\"dataframe\">\n",
       "  <thead>\n",
       "    <tr style=\"text-align: right;\">\n",
       "      <th></th>\n",
       "      <th>ride_duration</th>\n",
       "      <th>distance_covered</th>\n",
       "      <th>day_of_week</th>\n",
       "    </tr>\n",
       "  </thead>\n",
       "  <tbody>\n",
       "    <tr>\n",
       "      <th>count</th>\n",
       "      <td>343005</td>\n",
       "      <td>342537.000000</td>\n",
       "      <td>343005.000000</td>\n",
       "    </tr>\n",
       "    <tr>\n",
       "      <th>mean</th>\n",
       "      <td>0 days 00:33:32.729001</td>\n",
       "      <td>2.296205</td>\n",
       "      <td>3.348068</td>\n",
       "    </tr>\n",
       "    <tr>\n",
       "      <th>std</th>\n",
       "      <td>0 days 04:07:24.085417</td>\n",
       "      <td>2.040378</td>\n",
       "      <td>2.008823</td>\n",
       "    </tr>\n",
       "    <tr>\n",
       "      <th>min</th>\n",
       "      <td>-1 days +23:55:57</td>\n",
       "      <td>0.000000</td>\n",
       "      <td>0.000000</td>\n",
       "    </tr>\n",
       "    <tr>\n",
       "      <th>25%</th>\n",
       "      <td>0 days 00:10:10</td>\n",
       "      <td>0.851062</td>\n",
       "      <td>2.000000</td>\n",
       "    </tr>\n",
       "    <tr>\n",
       "      <th>50%</th>\n",
       "      <td>0 days 00:18:09</td>\n",
       "      <td>1.831353</td>\n",
       "      <td>3.000000</td>\n",
       "    </tr>\n",
       "    <tr>\n",
       "      <th>75%</th>\n",
       "      <td>0 days 00:30:50</td>\n",
       "      <td>3.269988</td>\n",
       "      <td>5.000000</td>\n",
       "    </tr>\n",
       "    <tr>\n",
       "      <th>max</th>\n",
       "      <td>28 days 15:51:00</td>\n",
       "      <td>27.637099</td>\n",
       "      <td>6.000000</td>\n",
       "    </tr>\n",
       "  </tbody>\n",
       "</table>\n",
       "</div>"
      ],
      "text/plain": [
       "                ride_duration  distance_covered    day_of_week\n",
       "count                  343005     342537.000000  343005.000000\n",
       "mean   0 days 00:33:32.729001          2.296205       3.348068\n",
       "std    0 days 04:07:24.085417          2.040378       2.008823\n",
       "min         -1 days +23:55:57          0.000000       0.000000\n",
       "25%           0 days 00:10:10          0.851062       2.000000\n",
       "50%           0 days 00:18:09          1.831353       3.000000\n",
       "75%           0 days 00:30:50          3.269988       5.000000\n",
       "max          28 days 15:51:00         27.637099       6.000000"
      ]
     },
     "execution_count": 117,
     "metadata": {},
     "output_type": "execute_result"
    }
   ],
   "source": [
    "df[[\"ride_duration\",\"distance_covered\",\"day_of_week\"]].describe()"
   ]
  },
  {
   "cell_type": "markdown",
   "metadata": {},
   "source": [
    "We see that for some ride durations, the time is in minus. That means for some records, the `started_at` was later than `ended_at`, which should not be the case and hence, we will delete such rows.\n",
    "\n",
    "The other columns seem fine."
   ]
  },
  {
   "cell_type": "code",
   "execution_count": 59,
   "metadata": {},
   "outputs": [],
   "source": [
    "#Keeping only those rows which have time in positive\n",
    "df = df[df[\"ride_duration\"] > pd.to_timedelta(\"00:00:00\")]"
   ]
  },
  {
   "cell_type": "code",
   "execution_count": 81,
   "metadata": {},
   "outputs": [],
   "source": [
    "df.reset_index(drop=True,inplace=True)"
   ]
  },
  {
   "cell_type": "markdown",
   "metadata": {},
   "source": [
    "---"
   ]
  },
  {
   "cell_type": "markdown",
   "metadata": {},
   "source": [
    "<a id='s4'></a>\n",
    "\n",
    "## Extracting Insights and Patterns"
   ]
  },
  {
   "cell_type": "markdown",
   "metadata": {},
   "source": [
    "With the help of statistics and data visualizations, we try to find out hidden insights and patterns in the data."
   ]
  },
  {
   "cell_type": "code",
   "execution_count": 138,
   "metadata": {},
   "outputs": [],
   "source": [
    "ride_duration_list = [df[\"ride_duration\"][i].total_seconds() for i in range(len(df.index))]"
   ]
  },
  {
   "cell_type": "code",
   "execution_count": 120,
   "metadata": {},
   "outputs": [
    {
     "data": {
      "image/png": "[encoded data removed]",
      "text/plain": [
       "<Figure size 864x432 with 1 Axes>"
      ]
     },
     "metadata": {
      "needs_background": "light"
     },
     "output_type": "display_data"
    }
   ],
   "source": [
    "plt.figure(figsize=(12,6))\n",
    "sns.barplot(data=pd.DataFrame({'ride_duration': ride_duration_list,\n",
    "                              'member_casual': df[\"member_casual\"]}), \n",
    "            x=\"member_casual\", y=\"ride_duration\",\n",
    "            estimator=np.median)\n",
    "plt.ylabel(\"Ride duration (seconds)\")\n",
    "plt.xlabel(\"Type of Customer\")\n",
    "plt.title(\"Median ride duration for each type of customer\");"
   ]
  },
  {
   "cell_type": "code",
   "execution_count": 121,
   "metadata": {},
   "outputs": [
    {
     "data": {
      "image/png": "[encoded data removed]",
      "text/plain": [
       "<Figure size 864x432 with 1 Axes>"
      ]
     },
     "metadata": {
      "needs_background": "light"
     },
     "output_type": "display_data"
    }
   ],
   "source": [
    "plt.figure(figsize=(12,6))\n",
    "sns.barplot(data=pd.DataFrame({'ride_duration': ride_duration_list,\n",
    "                              'member_casual':df[\"member_casual\"]}), \n",
    "            x=\"member_casual\", y=\"ride_duration\")\n",
    "plt.ylabel(\"Ride duration (seconds)\")\n",
    "plt.xlabel(\"Type of Customer\")\n",
    "plt.title(\"Average ride duration for each type of customer\");"
   ]
  },
  {
   "cell_type": "code",
   "execution_count": 117,
   "metadata": {},
   "outputs": [
    {
     "data": {
      "image/png": "[encoded data removed]",
      "text/plain": [
       "<Figure size 864x432 with 1 Axes>"
      ]
     },
     "metadata": {
      "needs_background": "light"
     },
     "output_type": "display_data"
    }
   ],
   "source": [
    "plt.figure(figsize=(12,6))\n",
    "sns.barplot(data=df, x=\"member_casual\", y=\"distance_covered\",estimator=np.median)\n",
    "plt.ylabel(\"Distance Covered\")\n",
    "plt.xlabel(\"Type of Customer\")\n",
    "plt.title(\"Median distance covered by each type of customer\");"
   ]
  },
  {
   "cell_type": "code",
   "execution_count": 116,
   "metadata": {},
   "outputs": [
    {
     "data": {
      "image/png": "[encoded data removed]",
      "text/plain": [
       "<Figure size 864x432 with 1 Axes>"
      ]
     },
     "metadata": {
      "needs_background": "light"
     },
     "output_type": "display_data"
    }
   ],
   "source": [
    "plt.figure(figsize=(12,6))\n",
    "sns.barplot(data=df, x=\"member_casual\", y=\"distance_covered\")\n",
    "plt.ylabel(\"Distance Covered\")\n",
    "plt.xlabel(\"Type of Customer\")\n",
    "plt.title(\"Average distance covered by each type of customer\");"
   ]
  },
  {
   "cell_type": "code",
   "execution_count": 115,
   "metadata": {
    "scrolled": false
   },
   "outputs": [
    {
     "data": {
      "image/png": "[encoded data removed]",
      "text/plain": [
       "<Figure size 864x432 with 1 Axes>"
      ]
     },
     "metadata": {
      "needs_background": "light"
     },
     "output_type": "display_data"
    }
   ],
   "source": [
    "df.groupby([\"day_of_week\"]).count()[\"distance_covered\"].plot(figsize=(12,6),\n",
    "                                                             title=\"Total distance covered on day of the week\");"
   ]
  },
  {
   "cell_type": "code",
   "execution_count": 113,
   "metadata": {},
   "outputs": [
    {
     "data": {
      "image/png": "[encoded data removed]",
      "text/plain": [
       "<Figure size 864x432 with 1 Axes>"
      ]
     },
     "metadata": {
      "needs_background": "light"
     },
     "output_type": "display_data"
    }
   ],
   "source": [
    "plt.figure(figsize=(12,6))\n",
    "sns.barplot(data=df.groupby([\"day_of_week\",\"member_casual\"]).count()[\"distance_covered\"].reset_index(), \n",
    "            x=\"day_of_week\", y=\"distance_covered\",hue=\"member_casual\")\n",
    "plt.legend(title=\"Type of customer\")\n",
    "plt.ylabel(\"Ride Count\")\n",
    "plt.xlabel(\"Day of the Week\")\n",
    "plt.xticks([0,1,2,3,4,5,6],[\"Monday\",\"Tuesday\",\"Wednesday\",\"Thursday\",\"Friday\",\"Saturday\",\"Sunday\"])\n",
    "plt.title(\"Total number of rides taken on different day of the week\");"
   ]
  },
  {
   "cell_type": "code",
   "execution_count": 160,
   "metadata": {},
   "outputs": [
    {
     "data": {
      "image/png": "[encoded data removed]",
      "text/plain": [
       "<Figure size 864x432 with 1 Axes>"
      ]
     },
     "metadata": {
      "needs_background": "light"
     },
     "output_type": "display_data"
    }
   ],
   "source": [
    "plt.figure(figsize=(12,6))\n",
    "sns.barplot(data=df.groupby([\"day_of_week\",\"member_casual\"]).sum()[\"distance_covered\"].reset_index(), \n",
    "            x=\"day_of_week\", y=\"distance_covered\",hue=\"member_casual\")\n",
    "plt.legend(title=\"Type of customer\")\n",
    "plt.ylabel(\"Distance covered\")\n",
    "plt.xlabel(\"Day of the Week\")\n",
    "plt.xticks([0,1,2,3,4,5,6],[\"Monday\",\"Tuesday\",\"Wednesday\",\"Thursday\",\"Friday\",\"Saturday\",\"Sunday\"])\n",
    "plt.title(\"Total distance covered on different day of the week\");"
   ]
  },
  {
   "cell_type": "code",
   "execution_count": 139,
   "metadata": {},
   "outputs": [
    {
     "data": {
      "image/png": "[encoded data removed]",
      "text/plain": [
       "<Figure size 864x432 with 1 Axes>"
      ]
     },
     "metadata": {
      "needs_background": "light"
     },
     "output_type": "display_data"
    }
   ],
   "source": [
    "plt.figure(figsize=(12,6))\n",
    "sns.barplot(data=pd.DataFrame({'ride_duration': ride_duration_list, 'day_of_week':df[\"day_of_week\"],\n",
    "                               'member_casual':df['member_casual']}), \n",
    "            x=\"day_of_week\", y=\"ride_duration\",hue=\"member_casual\")\n",
    "plt.legend(title=\"Type of customer\")\n",
    "plt.ylabel(\"Ride duration (seconds)\")\n",
    "plt.xlabel(\"Day of the Week\")\n",
    "plt.xticks([0,1,2,3,4,5,6],[\"Monday\",\"Tuesday\",\"Wednesday\",\"Thursday\",\"Friday\",\"Saturday\",\"Sunday\"])\n",
    "plt.title(\"Average ride duration on different day of the week\");"
   ]
  },
  {
   "cell_type": "code",
   "execution_count": 226,
   "metadata": {},
   "outputs": [],
   "source": [
    "df_stations = df.groupby([\"start_station_name\",\n",
    "                          \"end_station_name\"]).count()[\"ride_id\"].sort_values(ascending=False).reset_index()\n",
    "\n",
    "df_stations.columns = [\"start_station_name\",\"end_station_name\",\"rides\"]"
   ]
  },
  {
   "cell_type": "code",
   "execution_count": 233,
   "metadata": {
    "scrolled": false
   },
   "outputs": [
    {
     "data": {
      "image/png": "[encoded data removed]",
      "text/plain": [
       "<Figure size 864x432 with 1 Axes>"
      ]
     },
     "metadata": {
      "needs_background": "light"
     },
     "output_type": "display_data"
    }
   ],
   "source": [
    "plt.figure(figsize=(12,6))\n",
    "sns.distplot(df_stations[\"rides\"],kde=False)\n",
    "plt.title(\"Number of rides taken from unique pair of stations\");"
   ]
  },
  {
   "cell_type": "code",
   "execution_count": 209,
   "metadata": {},
   "outputs": [
    {
     "data": {
      "text/plain": [
       "0.5235508888410509"
      ]
     },
     "execution_count": 209,
     "metadata": {},
     "output_type": "execute_result"
    }
   ],
   "source": [
    "df_stations[\"rides\"][0:8000].sum()/df_stations[\"rides\"].sum()"
   ]
  },
  {
   "cell_type": "code",
   "execution_count": 212,
   "metadata": {},
   "outputs": [
    {
     "data": {
      "text/plain": [
       "0.059602303629035264"
      ]
     },
     "execution_count": 212,
     "metadata": {},
     "output_type": "execute_result"
    }
   ],
   "source": [
    "8000/len(df_stations.index)"
   ]
  },
  {
   "cell_type": "code",
   "execution_count": 236,
   "metadata": {},
   "outputs": [
    {
     "data": {
      "text/html": [
       "<div>\n",
       "<style scoped>\n",
       "    .dataframe tbody tr th:only-of-type {\n",
       "        vertical-align: middle;\n",
       "    }\n",
       "\n",
       "    .dataframe tbody tr th {\n",
       "        vertical-align: top;\n",
       "    }\n",
       "\n",
       "    .dataframe thead th {\n",
       "        text-align: right;\n",
       "    }\n",
       "</style>\n",
       "<table border=\"1\" class=\"dataframe\">\n",
       "  <thead>\n",
       "    <tr style=\"text-align: right;\">\n",
       "      <th></th>\n",
       "      <th>rideable_type</th>\n",
       "      <th>member_casual</th>\n",
       "      <th>ride_id</th>\n",
       "      <th>started_at</th>\n",
       "      <th>ended_at</th>\n",
       "      <th>start_station_name</th>\n",
       "      <th>start_station_id</th>\n",
       "      <th>end_station_name</th>\n",
       "      <th>end_station_id</th>\n",
       "      <th>start_lat</th>\n",
       "      <th>start_lng</th>\n",
       "      <th>end_lat</th>\n",
       "      <th>end_lng</th>\n",
       "      <th>ride_duration</th>\n",
       "      <th>distance_covered</th>\n",
       "      <th>day_of_week</th>\n",
       "    </tr>\n",
       "  </thead>\n",
       "  <tbody>\n",
       "    <tr>\n",
       "      <th>0</th>\n",
       "      <td>classic_bike</td>\n",
       "      <td>casual</td>\n",
       "      <td>66555</td>\n",
       "      <td>66555</td>\n",
       "      <td>66555</td>\n",
       "      <td>66555</td>\n",
       "      <td>66555</td>\n",
       "      <td>66555</td>\n",
       "      <td>66555</td>\n",
       "      <td>66555</td>\n",
       "      <td>66555</td>\n",
       "      <td>66555</td>\n",
       "      <td>66555</td>\n",
       "      <td>66555</td>\n",
       "      <td>66555</td>\n",
       "      <td>66555</td>\n",
       "    </tr>\n",
       "    <tr>\n",
       "      <th>1</th>\n",
       "      <td>classic_bike</td>\n",
       "      <td>member</td>\n",
       "      <td>114390</td>\n",
       "      <td>114390</td>\n",
       "      <td>114390</td>\n",
       "      <td>114390</td>\n",
       "      <td>114390</td>\n",
       "      <td>114390</td>\n",
       "      <td>114390</td>\n",
       "      <td>114390</td>\n",
       "      <td>114390</td>\n",
       "      <td>114390</td>\n",
       "      <td>114390</td>\n",
       "      <td>114390</td>\n",
       "      <td>114390</td>\n",
       "      <td>114390</td>\n",
       "    </tr>\n",
       "    <tr>\n",
       "      <th>2</th>\n",
       "      <td>docked_bike</td>\n",
       "      <td>casual</td>\n",
       "      <td>1008097</td>\n",
       "      <td>1008097</td>\n",
       "      <td>1008097</td>\n",
       "      <td>1008097</td>\n",
       "      <td>1008097</td>\n",
       "      <td>1008097</td>\n",
       "      <td>1008097</td>\n",
       "      <td>1008097</td>\n",
       "      <td>1008097</td>\n",
       "      <td>1008097</td>\n",
       "      <td>1008097</td>\n",
       "      <td>1008097</td>\n",
       "      <td>1008097</td>\n",
       "      <td>1008097</td>\n",
       "    </tr>\n",
       "    <tr>\n",
       "      <th>3</th>\n",
       "      <td>docked_bike</td>\n",
       "      <td>member</td>\n",
       "      <td>1251870</td>\n",
       "      <td>1251870</td>\n",
       "      <td>1251870</td>\n",
       "      <td>1251870</td>\n",
       "      <td>1251870</td>\n",
       "      <td>1251870</td>\n",
       "      <td>1251870</td>\n",
       "      <td>1251870</td>\n",
       "      <td>1251870</td>\n",
       "      <td>1251870</td>\n",
       "      <td>1251870</td>\n",
       "      <td>1251870</td>\n",
       "      <td>1251870</td>\n",
       "      <td>1251870</td>\n",
       "    </tr>\n",
       "    <tr>\n",
       "      <th>4</th>\n",
       "      <td>electric_bike</td>\n",
       "      <td>casual</td>\n",
       "      <td>162302</td>\n",
       "      <td>162302</td>\n",
       "      <td>162302</td>\n",
       "      <td>162302</td>\n",
       "      <td>162302</td>\n",
       "      <td>162302</td>\n",
       "      <td>162302</td>\n",
       "      <td>162302</td>\n",
       "      <td>162302</td>\n",
       "      <td>162302</td>\n",
       "      <td>162302</td>\n",
       "      <td>162302</td>\n",
       "      <td>162302</td>\n",
       "      <td>162302</td>\n",
       "    </tr>\n",
       "    <tr>\n",
       "      <th>5</th>\n",
       "      <td>electric_bike</td>\n",
       "      <td>member</td>\n",
       "      <td>221138</td>\n",
       "      <td>221138</td>\n",
       "      <td>221138</td>\n",
       "      <td>221138</td>\n",
       "      <td>221138</td>\n",
       "      <td>221138</td>\n",
       "      <td>221138</td>\n",
       "      <td>221138</td>\n",
       "      <td>221138</td>\n",
       "      <td>221138</td>\n",
       "      <td>221138</td>\n",
       "      <td>221138</td>\n",
       "      <td>221138</td>\n",
       "      <td>221138</td>\n",
       "    </tr>\n",
       "  </tbody>\n",
       "</table>\n",
       "</div>"
      ],
      "text/plain": [
       "   rideable_type member_casual  ride_id  started_at  ended_at  \\\n",
       "0   classic_bike        casual    66555       66555     66555   \n",
       "1   classic_bike        member   114390      114390    114390   \n",
       "2    docked_bike        casual  1008097     1008097   1008097   \n",
       "3    docked_bike        member  1251870     1251870   1251870   \n",
       "4  electric_bike        casual   162302      162302    162302   \n",
       "5  electric_bike        member   221138      221138    221138   \n",
       "\n",
       "   start_station_name  start_station_id  end_station_name  end_station_id  \\\n",
       "0               66555             66555             66555           66555   \n",
       "1              114390            114390            114390          114390   \n",
       "2             1008097           1008097           1008097         1008097   \n",
       "3             1251870           1251870           1251870         1251870   \n",
       "4              162302            162302            162302          162302   \n",
       "5              221138            221138            221138          221138   \n",
       "\n",
       "   start_lat  start_lng  end_lat  end_lng  ride_duration  distance_covered  \\\n",
       "0      66555      66555    66555    66555          66555             66555   \n",
       "1     114390     114390   114390   114390         114390            114390   \n",
       "2    1008097    1008097  1008097  1008097        1008097           1008097   \n",
       "3    1251870    1251870  1251870  1251870        1251870           1251870   \n",
       "4     162302     162302   162302   162302         162302            162302   \n",
       "5     221138     221138   221138   221138         221138            221138   \n",
       "\n",
       "   day_of_week  \n",
       "0        66555  \n",
       "1       114390  \n",
       "2      1008097  \n",
       "3      1251870  \n",
       "4       162302  \n",
       "5       221138  "
      ]
     },
     "execution_count": 236,
     "metadata": {},
     "output_type": "execute_result"
    }
   ],
   "source": [
    "df.groupby([\"rideable_type\",\"member_casual\"]).count().reset_index()"
   ]
  },
  {
   "cell_type": "code",
   "execution_count": 237,
   "metadata": {},
   "outputs": [
    {
     "data": {
      "image/png": "[encoded data removed]",
      "text/plain": [
       "<Figure size 864x432 with 1 Axes>"
      ]
     },
     "metadata": {
      "needs_background": "light"
     },
     "output_type": "display_data"
    }
   ],
   "source": [
    "plt.figure(figsize=(12,6))\n",
    "sns.barplot(data=df.groupby([\"rideable_type\",\"member_casual\"]).count().reset_index(),\n",
    "            x=\"rideable_type\",y=\"ride_id\",hue=\"member_casual\")\n",
    "plt.legend(title=\"Type of Customer\")\n",
    "plt.ylabel(\"Number of Bikes chosen\")\n",
    "plt.xlabel(\"Types of Bikes\")\n",
    "plt.title(\"Type of Bike chosen by different customers\");"
   ]
  },
  {
   "cell_type": "markdown",
   "metadata": {},
   "source": [
    "<a id='s41'></a>\n",
    "\n",
    "#### Obersations\n",
    "\n",
    "* Casuals tend to have much **higher** ride durations than Members.\n",
    "* Customers tend to cycle the **highest on Saturdays**.\n",
    "* Members take a lot **more** rides on **weekdays** \n",
    "* Casuals take **more** rides on **weekends**.\n",
    "* The **top 6%** of the stations contribute to **over 50%** of the rides taken.\n",
    "* **Docked Bikes** are chosen the **most**, followed by Electric Bikes and then Classic Bikes."
   ]
  },
  {
   "cell_type": "markdown",
   "metadata": {},
   "source": [
    "---"
   ]
  },
  {
   "cell_type": "markdown",
   "metadata": {},
   "source": [
    "<a id='s5'></a>\n",
    "\n",
    "## Conclusions\n",
    "\n",
    "* Casuals are probably office go-ers because they take less number of rides but ride longer distances.\n",
    "* Majority of the Casuals ride only on the weekends.\n",
    "* Members are consistent with their trips.\n",
    "* Stations with the highest rides are situated in high populated areas or have a high number of bikes available.\n",
    "* Docked Bikes are the favourites for all customers."
   ]
  },
  {
   "cell_type": "markdown",
   "metadata": {},
   "source": [
    "## Recommendations\n",
    "\n",
    "* Incentives can be offered on weekends so that more Casuals join the membership.\n",
    "* Station to station trip costs can be modified so that more revenue can be generated."
   ]
  }
 ],
 "metadata": {
  "kernelspec": {
   "display_name": "Python 3",
   "language": "python",
   "name": "python3"
  },
  "language_info": {
   "codemirror_mode": {
    "name": "ipython",
    "version": 3
   },
   "file_extension": ".py",
   "mimetype": "text/x-python",
   "name": "python",
   "nbconvert_exporter": "python",
   "pygments_lexer": "ipython3",
   "version": "3.7.6"
  }
 },
 "nbformat": 4,
 "nbformat_minor": 4
}
